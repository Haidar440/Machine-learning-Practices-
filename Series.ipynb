{
 "cells": [
  {
   "cell_type": "code",
   "execution_count": 5,
   "id": "eb2b4f4a-bcf9-49fe-b205-fdf1c0b76a90",
   "metadata": {},
   "outputs": [],
   "source": [
    "import pandas as pd\n",
    "import numpy as np"
   ]
  },
  {
   "cell_type": "code",
   "execution_count": 10,
   "id": "bfd82703-7709-4f9b-8255-1005c095ceeb",
   "metadata": {},
   "outputs": [
    {
     "name": "stdout",
     "output_type": "stream",
     "text": [
      "RangeIndex(start=0, stop=6, step=1)\n",
      "[1 3 4 5 6 6]\n"
     ]
    }
   ],
   "source": [
    "s1 = pd.Series([1,3,4,5,6,6,])\n",
    "print(s1.index)\n",
    "print(s1.values)"
   ]
  },
  {
   "cell_type": "code",
   "execution_count": 12,
   "id": "79e5ca0e-197a-4013-ab39-ce9513d64ed0",
   "metadata": {},
   "outputs": [
    {
     "name": "stdout",
     "output_type": "stream",
     "text": [
      "[40 56 78 80 89]\n",
      "[1 3 4 5 6 6]\n",
      "<class 'numpy.ndarray'> <class 'numpy.ndarray'>\n"
     ]
    }
   ],
   "source": [
    "arr1 = np.array([40,56,78,80,89])\n",
    "print(arr1)\n",
    "print(s1.values)\n",
    "print(type(s1.values),type(arr1))"
   ]
  },
  {
   "cell_type": "code",
   "execution_count": 13,
   "id": "fc90de73-33a7-4892-b11d-cdab3b307465",
   "metadata": {},
   "outputs": [
    {
     "name": "stdout",
     "output_type": "stream",
     "text": [
      "apple     20\n",
      "banana    33\n",
      "orange    56\n",
      "mango     10\n",
      "dtype: int64\n"
     ]
    }
   ],
   "source": [
    "fruits = [\"apple\",\"banana\",\"orange\",\"mango\"]\n",
    "quantities = [20,33,56,10]\n",
    "s2 = pd.Series(quantities,index=fruits)\n",
    "print(s2)"
   ]
  },
  {
   "cell_type": "code",
   "execution_count": 15,
   "id": "b07b319b-1c47-460b-91c7-8c1b5abb955c",
   "metadata": {},
   "outputs": [
    {
     "name": "stdout",
     "output_type": "stream",
     "text": [
      "23    haidar\n",
      "34       ali\n",
      "90     akbar\n",
      "91     abbas\n",
      "92     sajid\n",
      "dtype: object\n"
     ]
    }
   ],
   "source": [
    "reg_no = [23,34,90,91,92]\n",
    "name = [\"haidar\",\"ali\",\"akbar\",\"abbas\",\"sajid\"]\n",
    "s3 = pd.Series(name,index=reg_no)\n",
    "print(s3)"
   ]
  },
  {
   "cell_type": "code",
   "execution_count": 17,
   "id": "e6d62188-9840-487b-890d-fed4d0a2764a",
   "metadata": {},
   "outputs": [
    {
     "name": "stdout",
     "output_type": "stream",
     "text": [
      "apple     37\n",
      "banana    46\n",
      "orange    83\n",
      "mango     42\n",
      "dtype: int64\n",
      "Sum of S:: 115\n"
     ]
    }
   ],
   "source": [
    "s4 = pd.Series([20,33,52,10],index=fruits)\n",
    "s5 = pd.Series([17,13,31,32],index=fruits)\n",
    "print(s4+s5)\n",
    "print(\"Sum of S::\",sum(s4))"
   ]
  },
  {
   "cell_type": "code",
   "execution_count": 19,
   "id": "ceae00ff-036d-4d0c-badb-7855674153aa",
   "metadata": {},
   "outputs": [
    {
     "ename": "NameError",
     "evalue": "name 'fruits2' is not defined",
     "output_type": "error",
     "traceback": [
      "\u001b[1;31m---------------------------------------------------------------------------\u001b[0m",
      "\u001b[1;31mNameError\u001b[0m                                 Traceback (most recent call last)",
      "Cell \u001b[1;32mIn[19], line 4\u001b[0m\n\u001b[0;32m      2\u001b[0m fruit2 \u001b[38;5;241m=\u001b[39m [\u001b[38;5;124m'\u001b[39m\u001b[38;5;124mraspberries\u001b[39m\u001b[38;5;124m'\u001b[39m,\u001b[38;5;124m'\u001b[39m\u001b[38;5;124moranges\u001b[39m\u001b[38;5;124m'\u001b[39m,\u001b[38;5;124m'\u001b[39m\u001b[38;5;124mbanana\u001b[39m\u001b[38;5;124m'\u001b[39m,\u001b[38;5;124m'\u001b[39m\u001b[38;5;124mpears\u001b[39m\u001b[38;5;124m'\u001b[39m]\n\u001b[0;32m      3\u001b[0m s4 \u001b[38;5;241m=\u001b[39m pd\u001b[38;5;241m.\u001b[39mSeries([\u001b[38;5;241m20\u001b[39m,\u001b[38;5;241m33\u001b[39m,\u001b[38;5;241m52\u001b[39m,\u001b[38;5;241m10\u001b[39m],index\u001b[38;5;241m=\u001b[39mfruits)\n\u001b[1;32m----> 4\u001b[0m s5 \u001b[38;5;241m=\u001b[39m pd\u001b[38;5;241m.\u001b[39mSeries([\u001b[38;5;241m17\u001b[39m,\u001b[38;5;241m13\u001b[39m,\u001b[38;5;241m31\u001b[39m,\u001b[38;5;241m32\u001b[39m],index\u001b[38;5;241m=\u001b[39m\u001b[43mfruits2\u001b[49m)\n\u001b[0;32m      5\u001b[0m \u001b[38;5;28mprint\u001b[39m(s4\u001b[38;5;241m+\u001b[39ms5)\n",
      "\u001b[1;31mNameError\u001b[0m: name 'fruits2' is not defined"
     ]
    }
   ],
   "source": [
    "fruits = ['apple','oranges','cherries','pears']\n",
    "fruit2 = ['raspberries','oranges','banana','pears']\n",
    "s4 = pd.Series([20,33,52,10],index=fruits)\n",
    "s5 = pd.Series([17,13,31,32],index=fruits2)\n",
    "print(s4+s5)"
   ]
  }
 ],
 "metadata": {
  "kernelspec": {
   "display_name": "Python 3 (ipykernel)",
   "language": "python",
   "name": "python3"
  },
  "language_info": {
   "codemirror_mode": {
    "name": "ipython",
    "version": 3
   },
   "file_extension": ".py",
   "mimetype": "text/x-python",
   "name": "python",
   "nbconvert_exporter": "python",
   "pygments_lexer": "ipython3",
   "version": "3.11.0"
  }
 },
 "nbformat": 4,
 "nbformat_minor": 5
}
