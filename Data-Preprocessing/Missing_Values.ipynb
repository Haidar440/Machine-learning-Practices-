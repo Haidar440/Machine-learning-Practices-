{
 "cells": [
  {
   "cell_type": "code",
   "execution_count": 6,
   "id": "bd7e0c8b-78fc-4559-831d-6acaaa194309",
   "metadata": {},
   "outputs": [],
   "source": [
    "import pandas as pd\n",
    "import numpy as np"
   ]
  },
  {
   "cell_type": "code",
   "execution_count": 7,
   "id": "006ef6c1-8007-4b96-8ed7-8c6a31a82f92",
   "metadata": {},
   "outputs": [
    {
     "name": "stdout",
     "output_type": "stream",
     "text": [
      "   ID Pending\n",
      "0  11   50000\n",
      "1  12   10000\n",
      "2  13     NaN\n",
      "3  14    5500\n",
      "4  15    7600\n",
      "5  16     NaN\n",
      "6  17   15000\n",
      "7  18    4500\n",
      "8  19    2000\n",
      "9  20     NaN\n"
     ]
    }
   ],
   "source": [
    "fee_status = pd.DataFrame({\n",
    "    'ID':[11,12,13,14,15,16,17,18,19,20],\n",
    "    'Pending':['50000','10000',np.nan,'5500','7600',np.nan,'15000','4500','2000',np.nan]\n",
    "})\n",
    "print(fee_status)"
   ]
  },
  {
   "cell_type": "code",
   "execution_count": 8,
   "id": "3bab7bf1-d58e-4335-830e-1331011f990c",
   "metadata": {},
   "outputs": [
    {
     "data": {
      "text/plain": [
       "0    False\n",
       "1    False\n",
       "2     True\n",
       "3    False\n",
       "4    False\n",
       "5     True\n",
       "6    False\n",
       "7    False\n",
       "8    False\n",
       "9     True\n",
       "Name: Pending, dtype: bool"
      ]
     },
     "execution_count": 8,
     "metadata": {},
     "output_type": "execute_result"
    }
   ],
   "source": [
    "pd.isnull(fee_status[\"Pending\"])"
   ]
  },
  {
   "cell_type": "code",
   "execution_count": 9,
   "id": "00fa2f3e-e1d5-46d1-92a8-d868c8367806",
   "metadata": {},
   "outputs": [
    {
     "name": "stdout",
     "output_type": "stream",
     "text": [
      "   ID\n",
      "0  11\n",
      "1  12\n",
      "2  13\n",
      "3  14\n",
      "4  15\n",
      "5  16\n",
      "6  17\n",
      "7  18\n",
      "8  19\n",
      "9  20\n"
     ]
    }
   ],
   "source": [
    "print(fee_status.drop(\"Pending\",axis=1))"
   ]
  },
  {
   "cell_type": "code",
   "execution_count": 11,
   "id": "f3c7937b-e3b3-4931-9376-cf7c5446e17a",
   "metadata": {},
   "outputs": [
    {
     "name": "stdout",
     "output_type": "stream",
     "text": [
      "Original Data\n",
      "   G1    G2  G3  G4\n",
      "0  10  25.0  12  21\n",
      "1  20   NaN  14  22\n",
      "2  30   NaN  17  23\n",
      "3  40  29.0  11  25\n",
      "\n",
      "After Handling Miss value with Mean\n",
      "   G1    G2  G3  G4\n",
      "0  10  25.0  12  21\n",
      "1  20  27.0  14  22\n",
      "2  30  27.0  17  23\n",
      "3  40  29.0  11  25\n"
     ]
    }
   ],
   "source": [
    "#handling miss value with means\n",
    "import numpy as np\n",
    "import pandas as pd\n",
    "G_dict = {\"G1\":[10,20,30,40],\n",
    "          \"G2\":[25,np.nan,np.nan,29],\n",
    "          \"G3\":[12,14,17,11],\n",
    "          \"G4\":[21,22,23,25]\n",
    "         }\n",
    "print(\"Original Data\")\n",
    "df=pd.DataFrame(G_dict)\n",
    "print(df)\n",
    "mean_value = df[\"G2\"].mean()\n",
    "df['G2'].fillna(mean_value,inplace=True)\n",
    "print()\n",
    "print(\"After Handling Miss value with Mean\")\n",
    "print(df)"
   ]
  },
  {
   "cell_type": "code",
   "execution_count": null,
   "id": "750c53b3-bad5-47ae-bf1a-12be2f6d9ca5",
   "metadata": {},
   "outputs": [],
   "source": []
  },
  {
   "cell_type": "code",
   "execution_count": null,
   "id": "bc538c50-2ab1-42ff-bf5c-242f251cfa39",
   "metadata": {},
   "outputs": [],
   "source": []
  },
  {
   "cell_type": "code",
   "execution_count": null,
   "id": "32605c2d-d78a-42df-8a7f-cef77792d38a",
   "metadata": {},
   "outputs": [],
   "source": []
  }
 ],
 "metadata": {
  "kernelspec": {
   "display_name": "Python 3 (ipykernel)",
   "language": "python",
   "name": "python3"
  },
  "language_info": {
   "codemirror_mode": {
    "name": "ipython",
    "version": 3
   },
   "file_extension": ".py",
   "mimetype": "text/x-python",
   "name": "python",
   "nbconvert_exporter": "python",
   "pygments_lexer": "ipython3",
   "version": "3.11.0"
  }
 },
 "nbformat": 4,
 "nbformat_minor": 5
}
