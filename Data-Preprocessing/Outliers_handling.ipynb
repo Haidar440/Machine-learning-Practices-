{
 "cells": [
  {
   "cell_type": "code",
   "execution_count": 2,
   "id": "a0f32e65-fd24-4713-be3b-b494b576369e",
   "metadata": {},
   "outputs": [],
   "source": [
    "import numpy as np"
   ]
  },
  {
   "cell_type": "code",
   "execution_count": 149,
   "id": "915b0e18-2e67-417e-87a0-d6bf2932c1ed",
   "metadata": {},
   "outputs": [
    {
     "name": "stdout",
     "output_type": "stream",
     "text": [
      "Outlier: [2000, 500]\n"
     ]
    },
    {
     "name": "stderr",
     "output_type": "stream",
     "text": [
      "C:\\Users\\haida\\AppData\\Local\\Temp\\ipykernel_14348\\3487093707.py:5: RuntimeWarning: divide by zero encountered in double_scalars\n",
      "  outliers = [x for x in data if (x-mean)/std_dev>threshold]\n"
     ]
    }
   ],
   "source": [
    "data = [10,12,14,11,13,100,12,15,14,11,2000,500,0.5]\n",
    "mean = np.mean(data)\n",
    "std_dev = np.std(mean)\n",
    "threshold = 3\n",
    "outliers = [x for x in data if (x-mean)/std_dev>threshold]\n",
    "print(\"Outlier:\",outliers)"
   ]
  },
  {
   "cell_type": "code",
   "execution_count": 122,
   "id": "aad26bae-a0c3-4d04-b6ea-79109171890c",
   "metadata": {},
   "outputs": [
    {
     "data": {
      "text/plain": [
       "[10, 12, 14, 11, 13, 100, 12, 15, 14, 11]"
      ]
     },
     "execution_count": 122,
     "metadata": {},
     "output_type": "execute_result"
    }
   ],
   "source": [
    "std_dev1 = np.std(data)\n",
    "filtered_data = [x for x in data if abs((x-mean)/std_dev1)<=threshold]\n",
    "filtered_data"
   ]
  },
  {
   "cell_type": "code",
   "execution_count": 150,
   "id": "aa6c6938-073d-4c3d-a539-1aca0673b0d1",
   "metadata": {},
   "outputs": [
    {
     "name": "stdout",
     "output_type": "stream",
     "text": [
      "Lower:: 5.0\n",
      "Upper:: 21.0\n"
     ]
    },
    {
     "data": {
      "text/plain": [
       "[100, 2000, 500, 0.5]"
      ]
     },
     "execution_count": 150,
     "metadata": {},
     "output_type": "execute_result"
    }
   ],
   "source": [
    "data = [10,12,14,11,13,100,12,15,14,11,2000,500,0.5]\n",
    "# data = [10, 12, 15, 18, 20, 100]\n",
    "Q1 = np.percentile(data,25)\n",
    "Q3 = np.percentile(data,75)\n",
    "IQR = Q3-Q1\n",
    "lower_bound = Q1 - 1.5 * IQR\n",
    "upper_bound = Q3 + 1.5 * IQR\n",
    "print(\"Lower::\",lower_bound)\n",
    "print(\"Upper::\",upper_bound)\n",
    "outlier = [x for x in data if x < lower_bound or x>upper_bound]\n",
    "outlier"
   ]
  },
  {
   "cell_type": "code",
   "execution_count": 132,
   "id": "3f1f7cbc-9577-408c-ba79-9b01ac112a37",
   "metadata": {},
   "outputs": [
    {
     "data": {
      "text/plain": [
       "[10, 12, 14, 11, 13, 12, 15, 14, 11]"
      ]
     },
     "execution_count": 132,
     "metadata": {},
     "output_type": "execute_result"
    }
   ],
   "source": [
    "filtered_data = [x for x in data if lower_bound<=x<=upper_bound]\n",
    "filtered_data"
   ]
  }
 ],
 "metadata": {
  "kernelspec": {
   "display_name": "Python 3 (ipykernel)",
   "language": "python",
   "name": "python3"
  },
  "language_info": {
   "codemirror_mode": {
    "name": "ipython",
    "version": 3
   },
   "file_extension": ".py",
   "mimetype": "text/x-python",
   "name": "python",
   "nbconvert_exporter": "python",
   "pygments_lexer": "ipython3",
   "version": "3.11.0"
  }
 },
 "nbformat": 4,
 "nbformat_minor": 5
}
