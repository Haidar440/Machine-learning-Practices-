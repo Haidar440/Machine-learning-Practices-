{
 "cells": [
  {
   "cell_type": "code",
   "execution_count": 1,
   "id": "75114b63-7d6a-4174-82a6-4c320d246eca",
   "metadata": {},
   "outputs": [
    {
     "name": "stdout",
     "output_type": "stream",
     "text": [
      "1.5.2\n",
      "3.11.0 (main, Oct 24 2022, 18:26:48) [MSC v.1933 64 bit (AMD64)]\n"
     ]
    }
   ],
   "source": [
    "import pandas as pd\n",
    "import sys\n",
    "print(pd.__version__)\n",
    "print(sys.version)"
   ]
  },
  {
   "cell_type": "code",
   "execution_count": 2,
   "id": "d48f4df8-b33b-43de-8b2d-b5a35883c981",
   "metadata": {},
   "outputs": [],
   "source": [
    "import pandas as pd\n",
    "\n",
    "\n",
    "df = pd.DataFrame({\n",
    "    'ID': [1, 2, 2, 3, 4, 4, 5],\n",
    "    'Name': ['Alice', 'Bob', 'Bob', 'Charlie', 'David', 'David', 'Eve'],\n",
    "    'Age': [25, 30, 30, 35, 40, 40, 45]\n",
    "})"
   ]
  },
  {
   "cell_type": "code",
   "execution_count": 4,
   "id": "29dedad8-cfce-4a2e-8802-52507651601d",
   "metadata": {},
   "outputs": [
    {
     "data": {
      "text/html": [
       "<div>\n",
       "<style scoped>\n",
       "    .dataframe tbody tr th:only-of-type {\n",
       "        vertical-align: middle;\n",
       "    }\n",
       "\n",
       "    .dataframe tbody tr th {\n",
       "        vertical-align: top;\n",
       "    }\n",
       "\n",
       "    .dataframe thead th {\n",
       "        text-align: right;\n",
       "    }\n",
       "</style>\n",
       "<table border=\"1\" class=\"dataframe\">\n",
       "  <thead>\n",
       "    <tr style=\"text-align: right;\">\n",
       "      <th></th>\n",
       "      <th>ID</th>\n",
       "      <th>Name</th>\n",
       "      <th>Age</th>\n",
       "    </tr>\n",
       "  </thead>\n",
       "  <tbody>\n",
       "    <tr>\n",
       "      <th>0</th>\n",
       "      <td>1</td>\n",
       "      <td>Alice</td>\n",
       "      <td>25</td>\n",
       "    </tr>\n",
       "    <tr>\n",
       "      <th>1</th>\n",
       "      <td>2</td>\n",
       "      <td>Bob</td>\n",
       "      <td>30</td>\n",
       "    </tr>\n",
       "    <tr>\n",
       "      <th>3</th>\n",
       "      <td>3</td>\n",
       "      <td>Charlie</td>\n",
       "      <td>35</td>\n",
       "    </tr>\n",
       "    <tr>\n",
       "      <th>4</th>\n",
       "      <td>4</td>\n",
       "      <td>David</td>\n",
       "      <td>40</td>\n",
       "    </tr>\n",
       "    <tr>\n",
       "      <th>6</th>\n",
       "      <td>5</td>\n",
       "      <td>Eve</td>\n",
       "      <td>45</td>\n",
       "    </tr>\n",
       "  </tbody>\n",
       "</table>\n",
       "</div>"
      ],
      "text/plain": [
       "   ID     Name  Age\n",
       "0   1    Alice   25\n",
       "1   2      Bob   30\n",
       "3   3  Charlie   35\n",
       "4   4    David   40\n",
       "6   5      Eve   45"
      ]
     },
     "execution_count": 4,
     "metadata": {},
     "output_type": "execute_result"
    }
   ],
   "source": [
    "unique_df = df.drop_duplicates()\n",
    "unique_df"
   ]
  },
  {
   "cell_type": "code",
   "execution_count": 5,
   "id": "62cbb94b-a5ba-48bb-a30e-775c49d3d4a3",
   "metadata": {},
   "outputs": [
    {
     "name": "stdout",
     "output_type": "stream",
     "text": [
      "   ID     Name  Age\n",
      "0   1    Alice   25\n",
      "1   2      Bob   30\n",
      "3   3  Charlie   35\n",
      "4   4    David   40\n",
      "6   5      Eve   45\n"
     ]
    }
   ],
   "source": [
    "result = df.drop_duplicates(subset=[\"Name\"])\n",
    "print(result)"
   ]
  },
  {
   "cell_type": "code",
   "execution_count": 6,
   "id": "5b6bebed-c9b6-4a95-b9de-178104470558",
   "metadata": {},
   "outputs": [
    {
     "name": "stdout",
     "output_type": "stream",
     "text": [
      "🔹 Original DataFrame:\n",
      "   ID     Name  Age\n",
      "0   1    Alice   25\n",
      "1   2      Bob   30\n",
      "2   2      Bob   30\n",
      "3   3  Charlie   35\n",
      "4   4    David   40\n",
      "5   4    David   40\n",
      "6   5      Eve   45\n",
      "\n",
      "🔹 DataFrame After Dropping Duplicates (Keeping First Occurrence):\n",
      "   ID     Name  Age\n",
      "0   1    Alice   25\n",
      "1   2      Bob   30\n",
      "3   3  Charlie   35\n",
      "4   4    David   40\n",
      "6   5      Eve   45\n",
      "\n",
      "🔹 DataFrame After Dropping Duplicates (Keeping Last Occurrence):\n",
      "   ID     Name  Age\n",
      "0   1    Alice   25\n",
      "2   2      Bob   30\n",
      "3   3  Charlie   35\n",
      "5   4    David   40\n",
      "6   5      Eve   45\n",
      "\n",
      "🔹 DataFrame After Dropping Duplicates (Removing All Duplicates):\n",
      "   ID     Name  Age\n",
      "0   1    Alice   25\n",
      "3   3  Charlie   35\n",
      "6   5      Eve   45\n"
     ]
    }
   ],
   "source": [
    "print(\"🔹 Original DataFrame:\")\n",
    "print(df)\n",
    "\n",
    "# Keep First (Default)\n",
    "df_first = df.drop_duplicates(keep='first')\n",
    "\n",
    "# Keep Last\n",
    "df_last = df.drop_duplicates(keep='last')\n",
    "\n",
    "# Remove All Duplicates\n",
    "df_none = df.drop_duplicates(keep=False)\n",
    "\n",
    "print(\"\\n🔹 DataFrame After Dropping Duplicates (Keeping First Occurrence):\")\n",
    "print(df_first)\n",
    "\n",
    "print(\"\\n🔹 DataFrame After Dropping Duplicates (Keeping Last Occurrence):\")\n",
    "print(df_last)\n",
    "\n",
    "print(\"\\n🔹 DataFrame After Dropping Duplicates (Removing All Duplicates):\")\n",
    "print(df_none)\n"
   ]
  },
  {
   "cell_type": "code",
   "execution_count": 7,
   "id": "73ee8998-6316-4aff-ba31-2c840ced1c3b",
   "metadata": {},
   "outputs": [
    {
     "name": "stdout",
     "output_type": "stream",
     "text": [
      "   ID     Name  Age\n",
      "0   1    Alice   25\n",
      "1   2      Bob   30\n",
      "3   3  Charlie   35\n",
      "4   4    David   40\n",
      "6   5      Eve   45\n"
     ]
    }
   ],
   "source": [
    "df.drop_duplicates(inplace=True)\n",
    "print(df)"
   ]
  }
 ],
 "metadata": {
  "kernelspec": {
   "display_name": "Python 3 (ipykernel)",
   "language": "python",
   "name": "python3"
  },
  "language_info": {
   "codemirror_mode": {
    "name": "ipython",
    "version": 3
   },
   "file_extension": ".py",
   "mimetype": "text/x-python",
   "name": "python",
   "nbconvert_exporter": "python",
   "pygments_lexer": "ipython3",
   "version": "3.11.0"
  }
 },
 "nbformat": 4,
 "nbformat_minor": 5
}
