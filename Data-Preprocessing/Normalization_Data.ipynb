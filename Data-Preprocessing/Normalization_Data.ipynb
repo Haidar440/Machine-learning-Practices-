{
 "cells": [
  {
   "cell_type": "code",
   "execution_count": 9,
   "id": "b95c3159-c1c6-4253-b938-011e15da2fc6",
   "metadata": {},
   "outputs": [],
   "source": [
    "import numpy as np\n",
    "import pandas as pd\n",
    "from sklearn.preprocessing import MinMaxScaler"
   ]
  },
  {
   "cell_type": "code",
   "execution_count": 21,
   "id": "92bab791-0b28-4af6-a441-ed094b54791c",
   "metadata": {},
   "outputs": [
    {
     "name": "stdout",
     "output_type": "stream",
     "text": [
      "Orignal Data\n",
      "   sepal_length  sepal_width  petal_length  petal_width\n",
      "0           5.1          3.5           1.4          0.2\n",
      "1           4.9          3.0           1.4          0.2\n",
      "2           4.7          3.2           1.3          0.2\n",
      "3           4.6          3.1           1.5          0.2\n",
      "4           5.0          3.6           1.4          0.2\n"
     ]
    }
   ],
   "source": [
    "data = pd.read_csv('iris_data.csv')\n",
    "df  = pd.DataFrame(data)\n",
    "df = df.drop(columns=['species'])\n",
    "print(\"Orignal Data\")\n",
    "print(df.head())"
   ]
  },
  {
   "cell_type": "code",
   "execution_count": 20,
   "id": "3b30e3d7-a685-415e-873a-7e71fa512a2b",
   "metadata": {},
   "outputs": [
    {
     "name": "stdout",
     "output_type": "stream",
     "text": [
      "Normalized DataSet\n",
      "   sepal_length  sepal_width  petal_length  petal_width\n",
      "0      0.222222     0.625000      0.067797     0.041667\n",
      "1      0.166667     0.416667      0.067797     0.041667\n",
      "2      0.111111     0.500000      0.050847     0.041667\n",
      "3      0.083333     0.458333      0.084746     0.041667\n",
      "4      0.194444     0.666667      0.067797     0.041667\n"
     ]
    }
   ],
   "source": [
    "#normalize\n",
    "scaler = MinMaxScaler()\n",
    "normalized_data = scaler.fit_transform(df)\n",
    "print(\"Normalized DataSet\")\n",
    "df_normalized = pd.DataFrame(normalized_data, columns=df.columns)\n",
    "print(df_normalized.head())"
   ]
  },
  {
   "cell_type": "code",
   "execution_count": null,
   "id": "53ac8048-36fc-46d4-9b2c-5a79336338c4",
   "metadata": {},
   "outputs": [],
   "source": []
  }
 ],
 "metadata": {
  "kernelspec": {
   "display_name": "Python 3 (ipykernel)",
   "language": "python",
   "name": "python3"
  },
  "language_info": {
   "codemirror_mode": {
    "name": "ipython",
    "version": 3
   },
   "file_extension": ".py",
   "mimetype": "text/x-python",
   "name": "python",
   "nbconvert_exporter": "python",
   "pygments_lexer": "ipython3",
   "version": "3.11.0"
  }
 },
 "nbformat": 4,
 "nbformat_minor": 5
}
