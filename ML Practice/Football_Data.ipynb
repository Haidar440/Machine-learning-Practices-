{
 "cells": [
  {
   "cell_type": "code",
   "execution_count": 2,
   "id": "025cfb69-2d31-4864-ade4-207822cc1aaf",
   "metadata": {},
   "outputs": [],
   "source": [
    "import numpy as np\n",
    "import pandas as pd"
   ]
  },
  {
   "cell_type": "code",
   "execution_count": 3,
   "id": "374155e3-6c0a-47aa-9922-3e83c3f3b450",
   "metadata": {},
   "outputs": [
    {
     "data": {
      "text/html": [
       "<div>\n",
       "<style scoped>\n",
       "    .dataframe tbody tr th:only-of-type {\n",
       "        vertical-align: middle;\n",
       "    }\n",
       "\n",
       "    .dataframe tbody tr th {\n",
       "        vertical-align: top;\n",
       "    }\n",
       "\n",
       "    .dataframe thead th {\n",
       "        text-align: right;\n",
       "    }\n",
       "</style>\n",
       "<table border=\"1\" class=\"dataframe\">\n",
       "  <thead>\n",
       "    <tr style=\"text-align: right;\">\n",
       "      <th></th>\n",
       "      <th>Team</th>\n",
       "      <th>Tournament</th>\n",
       "      <th>Goals Scored</th>\n",
       "      <th>Shots pg</th>\n",
       "      <th>Yellow Cards</th>\n",
       "      <th>Red Cards</th>\n",
       "      <th>Shooting Accuracy</th>\n",
       "      <th>AerialsWon</th>\n",
       "      <th>Rating</th>\n",
       "      <th>Discipline</th>\n",
       "      <th>Own Fouls</th>\n",
       "      <th>Opponent Fouls</th>\n",
       "    </tr>\n",
       "  </thead>\n",
       "  <tbody>\n",
       "    <tr>\n",
       "      <th>0</th>\n",
       "      <td>Manchester City</td>\n",
       "      <td>Premier League</td>\n",
       "      <td>83</td>\n",
       "      <td>15.8</td>\n",
       "      <td>46</td>\n",
       "      <td>2</td>\n",
       "      <td>89.4</td>\n",
       "      <td>12.8</td>\n",
       "      <td>7.01</td>\n",
       "      <td>48</td>\n",
       "      <td>1</td>\n",
       "      <td>1</td>\n",
       "    </tr>\n",
       "    <tr>\n",
       "      <th>1</th>\n",
       "      <td>Bayern Munich</td>\n",
       "      <td>Bundesliga</td>\n",
       "      <td>99</td>\n",
       "      <td>17.1</td>\n",
       "      <td>44</td>\n",
       "      <td>3</td>\n",
       "      <td>85.5</td>\n",
       "      <td>12.9</td>\n",
       "      <td>6.95</td>\n",
       "      <td>47</td>\n",
       "      <td>2</td>\n",
       "      <td>2</td>\n",
       "    </tr>\n",
       "    <tr>\n",
       "      <th>2</th>\n",
       "      <td>Paris Saint-Germain</td>\n",
       "      <td>Ligue 1</td>\n",
       "      <td>86</td>\n",
       "      <td>15.0</td>\n",
       "      <td>73</td>\n",
       "      <td>7</td>\n",
       "      <td>89.5</td>\n",
       "      <td>9.5</td>\n",
       "      <td>6.88</td>\n",
       "      <td>80</td>\n",
       "      <td>3</td>\n",
       "      <td>3</td>\n",
       "    </tr>\n",
       "    <tr>\n",
       "      <th>3</th>\n",
       "      <td>Barcelona</td>\n",
       "      <td>LaLiga</td>\n",
       "      <td>85</td>\n",
       "      <td>15.3</td>\n",
       "      <td>68</td>\n",
       "      <td>2</td>\n",
       "      <td>89.7</td>\n",
       "      <td>10.6</td>\n",
       "      <td>6.87</td>\n",
       "      <td>70</td>\n",
       "      <td>4</td>\n",
       "      <td>5</td>\n",
       "    </tr>\n",
       "    <tr>\n",
       "      <th>4</th>\n",
       "      <td>Real Madrid</td>\n",
       "      <td>LaLiga</td>\n",
       "      <td>67</td>\n",
       "      <td>14.4</td>\n",
       "      <td>57</td>\n",
       "      <td>2</td>\n",
       "      <td>87.7</td>\n",
       "      <td>11.8</td>\n",
       "      <td>6.86</td>\n",
       "      <td>59</td>\n",
       "      <td>5</td>\n",
       "      <td>6</td>\n",
       "    </tr>\n",
       "  </tbody>\n",
       "</table>\n",
       "</div>"
      ],
      "text/plain": [
       "                  Team      Tournament  Goals Scored  Shots pg  Yellow Cards  \\\n",
       "0      Manchester City  Premier League            83      15.8            46   \n",
       "1        Bayern Munich      Bundesliga            99      17.1            44   \n",
       "2  Paris Saint-Germain         Ligue 1            86      15.0            73   \n",
       "3            Barcelona          LaLiga            85      15.3            68   \n",
       "4          Real Madrid          LaLiga            67      14.4            57   \n",
       "\n",
       "   Red Cards  Shooting Accuracy  AerialsWon  Rating  Discipline  Own Fouls  \\\n",
       "0          2               89.4        12.8    7.01          48          1   \n",
       "1          3               85.5        12.9    6.95          47          2   \n",
       "2          7               89.5         9.5    6.88          80          3   \n",
       "3          2               89.7        10.6    6.87          70          4   \n",
       "4          2               87.7        11.8    6.86          59          5   \n",
       "\n",
       "   Opponent Fouls  \n",
       "0               1  \n",
       "1               2  \n",
       "2               3  \n",
       "3               5  \n",
       "4               6  "
      ]
     },
     "execution_count": 3,
     "metadata": {},
     "output_type": "execute_result"
    }
   ],
   "source": [
    "data  = pd.read_csv(\"Football_dataset.csv\")\n",
    "df = pd.DataFrame(data)\n",
    "data.head()"
   ]
  },
  {
   "cell_type": "code",
   "execution_count": 7,
   "id": "5a0a3610-b03e-4e3e-873d-3c7f05f184f0",
   "metadata": {},
   "outputs": [
    {
     "name": "stdout",
     "output_type": "stream",
     "text": [
      "The number of teams participated in the tournament:29\n"
     ]
    }
   ],
   "source": [
    "#how many teams in touranment\n",
    "number_of_team = df['Team'].nunique()\n",
    "print(f\"The number of teams participated in the tournament:{number_of_team}\")"
   ]
  },
  {
   "cell_type": "code",
   "execution_count": 13,
   "id": "2a9515b8-e7bf-4377-be6b-82b587f51db4",
   "metadata": {},
   "outputs": [
    {
     "name": "stdout",
     "output_type": "stream",
     "text": [
      "Top 2 Teams with High Discipline:\n",
      "               Team Tournament  Goals Scored  Shots pg  Yellow Cards  \\\n",
      "9   Atletico Madrid     LaLiga            67      12.1           100   \n",
      "28             Roma    Serie A            68      14.3            84   \n",
      "\n",
      "    Red Cards  Shooting Accuracy  AerialsWon  Rating  Discipline  Own Fouls  \\\n",
      "9           0               83.1        14.4    6.84         100          2   \n",
      "28          3               84.5        12.1    6.71          87          5   \n",
      "\n",
      "    Opponent Fouls  \n",
      "9                5  \n",
      "28               6  \n",
      "\n",
      "Bottom 2 Teams with Low Discipline:\n",
      "                 Team      Tournament  Goals Scored  Shots pg  Yellow Cards  \\\n",
      "8   Borussia Dortmund      Bundesliga            75      14.6            43   \n",
      "12          Liverpool  Premier League            68      16.0            40   \n",
      "\n",
      "    Red Cards  Shooting Accuracy  AerialsWon  Rating  Discipline  Own Fouls  \\\n",
      "8           1               85.5        12.8    6.84          44          1   \n",
      "12          0               85.7        14.3    6.82          40          5   \n",
      "\n",
      "    Opponent Fouls  \n",
      "8                3  \n",
      "12               1  \n"
     ]
    }
   ],
   "source": [
    "# Sort the DataFrame based on Discipline_Score\n",
    "sorted_df = df.sort_values(by=\"Discipline\", ascending=False)\n",
    "\n",
    "# Top 2 teams with high discipline\n",
    "top_2_teams = sorted_df.head(2)\n",
    "\n",
    "# Bottom 2 teams with low discipline\n",
    "bottom_2_teams = sorted_df.tail(2)\n",
    "\n",
    "# Display results\n",
    "print(\"Top 2 Teams with High Discipline:\")\n",
    "print(top_2_teams)\n",
    "\n",
    "print(\"\\nBottom 2 Teams with Low Discipline:\")\n",
    "print(bottom_2_teams)\n"
   ]
  },
  {
   "cell_type": "code",
   "execution_count": 11,
   "id": "b1062988-2d45-4a63-8856-2f396f1fba76",
   "metadata": {},
   "outputs": [
    {
     "name": "stdout",
     "output_type": "stream",
     "text": [
      "Top two teams with highest discipline\n",
      "Team\n",
      "Atletico Madrid    100\n",
      "Roma                87\n",
      "Name: Discipline, dtype: int64\n"
     ]
    }
   ],
   "source": [
    "top_teams = df.groupby(\"Team\")[\"Discipline\"].sum().nlargest(2)\n",
    "print(f\"Top two teams with highest discipline\")\n",
    "print(top_teams)"
   ]
  },
  {
   "cell_type": "code",
   "execution_count": 17,
   "id": "d9662c19-0f01-4055-ad11-6d44d4a5aa21",
   "metadata": {},
   "outputs": [
    {
     "name": "stdout",
     "output_type": "stream",
     "text": [
      "Bottom Two Teams with lowest discipline\n",
      "Team\n",
      "Liverpool            40\n",
      "Borussia Dortmund    44\n",
      "Name: Discipline, dtype: int64\n"
     ]
    }
   ],
   "source": [
    "bottom_team = df.groupby(\"Team\")[\"Discipline\"].sum().nsmallest(2)\n",
    "print(\"Bottom Two Teams with lowest discipline\")\n",
    "print(bottom_team)"
   ]
  },
  {
   "cell_type": "code",
   "execution_count": 20,
   "id": "ab409172-8f11-4b1d-9373-b93939364f67",
   "metadata": {},
   "outputs": [
    {
     "name": "stdout",
     "output_type": "stream",
     "text": [
      "Team\n",
      "AC Milan                80.0\n",
      "Aston Villa             63.0\n",
      "Atalanta                66.0\n",
      "Atletico Madrid        100.0\n",
      "Barcelona               68.0\n",
      "Bayer Leverkusen        58.0\n",
      "Bayern Munich           44.0\n",
      "Borussia Dortmund       43.0\n",
      "Chelsea                 49.0\n",
      "Eintracht Frankfurt     80.0\n",
      "Everton                 59.0\n",
      "Inter                   59.0\n",
      "Juventus                76.0\n",
      "Leeds                   61.0\n",
      "Leicester               61.0\n",
      "Lille                   67.0\n",
      "Liverpool               40.0\n",
      "Lyon                    60.0\n",
      "Manchester City         46.0\n",
      "Manchester United       64.0\n",
      "Monaco                  74.0\n",
      "Napoli                  71.0\n",
      "Paris Saint-Germain     73.0\n",
      "RB Leipzig              57.0\n",
      "Real Madrid             57.0\n",
      "Roma                    84.0\n",
      "Tottenham               53.0\n",
      "West Ham                48.0\n",
      "Wolfsburg               56.0\n",
      "Name: Yellow Cards, dtype: float64\n"
     ]
    }
   ],
   "source": [
    "count_yellow_as_per_team = data.groupby(\"Team\")[\"Yellow Cards\"].mean()\n",
    "print(count_yellow_as_per_team)"
   ]
  },
  {
   "cell_type": "code",
   "execution_count": 21,
   "id": "3d228691-ed19-4171-8e3d-eb403c71eb7f",
   "metadata": {},
   "outputs": [
    {
     "name": "stdout",
     "output_type": "stream",
     "text": [
      "62.6551724137931\n"
     ]
    }
   ],
   "source": [
    "overall_average_yellow = df['Yellow Cards'].mean()\n",
    "print(overall_average_yellow)"
   ]
  },
  {
   "cell_type": "code",
   "execution_count": 43,
   "id": "d58cd86e-a913-4606-8df1-8aba383802df",
   "metadata": {},
   "outputs": [
    {
     "name": "stdout",
     "output_type": "stream",
     "text": [
      "29 teams scored more than 5 goals\n",
      "              Team  Goals Scored\n",
      "0  Manchester City            83\n",
      "1    Bayern Munich            99\n"
     ]
    }
   ],
   "source": [
    "team_goals = df[df[\"Goals Scored\"]>5]\n",
    "num_teams_more_5_goal = team_goals['Team'].nunique()\n",
    "print(f\"{num_teams_more_5_goal} teams scored more than 5 goals\")\n",
    "print(team_goals[[\"Team\",\"Goals Scored\"]].head(2))"
   ]
  },
  {
   "cell_type": "code",
   "execution_count": 51,
   "id": "5747eaa2-0991-44a6-a407-241231a4d6f3",
   "metadata": {},
   "outputs": [
    {
     "name": "stdout",
     "output_type": "stream",
     "text": [
      "Team\n",
      "AC Milan               84.0\n",
      "Aston Villa            78.6\n",
      "Atalanta               83.5\n",
      "Atletico Madrid        83.1\n",
      "Barcelona              89.7\n",
      "Bayer Leverkusen       84.4\n",
      "Bayern Munich          85.5\n",
      "Borussia Dortmund      85.5\n",
      "Chelsea                87.0\n",
      "Eintracht Frankfurt    79.6\n",
      "Everton                81.4\n",
      "Inter                  87.0\n",
      "Juventus               88.3\n",
      "Leeds                  80.8\n",
      "Leicester              82.1\n",
      "Lille                  83.5\n",
      "Liverpool              85.7\n",
      "Lyon                   84.7\n",
      "Manchester City        89.4\n",
      "Manchester United      84.8\n",
      "Monaco                 82.7\n",
      "Napoli                 87.0\n",
      "Paris Saint-Germain    89.5\n",
      "RB Leipzig             83.2\n",
      "Real Madrid            87.7\n",
      "Roma                   84.5\n",
      "Tottenham              81.8\n",
      "West Ham               77.8\n",
      "Wolfsburg              78.0\n",
      "Name: Shooting Accuracy, dtype: float64\n"
     ]
    }
   ],
   "source": [
    "shooting_Accurancy = df.groupby(\"Team\")[\"Shooting Accuracy\"]\n",
    "print(shooting_Accurancy)"
   ]
  },
  {
   "cell_type": "code",
   "execution_count": 63,
   "id": "0e4003a0-0b90-4eec-a862-b28a16f27006",
   "metadata": {},
   "outputs": [
    {
     "ename": "SyntaxError",
     "evalue": "invalid syntax (978305962.py, line 1)",
     "output_type": "error",
     "traceback": [
      "\u001b[1;36m  Cell \u001b[1;32mIn[63], line 1\u001b[1;36m\u001b[0m\n\u001b[1;33m    most_Shooting Accuracy_team = df.nlargest(1,\"Shooting Accuracy\")\u001b[0m\n\u001b[1;37m                  ^\u001b[0m\n\u001b[1;31mSyntaxError\u001b[0m\u001b[1;31m:\u001b[0m invalid syntax\n"
     ]
    }
   ],
   "source": [
    "most_Shooting Accuracy_team = df.nlargest(1,\"Shooting Accuracy\")\n",
    "most_disciplined_team[[\"Shooting Accuracy\",\"Team\"]]"
   ]
  },
  {
   "cell_type": "code",
   "execution_count": 3,
   "id": "b75ad075-ed31-48a4-ac36-284191f12746",
   "metadata": {},
   "outputs": [
    {
     "data": {
      "text/plain": [
       "Team                 Barcelona\n",
       "Tournament              LaLiga\n",
       "Goals Scored                85\n",
       "Shots pg                  15.3\n",
       "Yellow Cards                68\n",
       "Red Cards                    2\n",
       "Shooting Accuracy         89.7\n",
       "AerialsWon                10.6\n",
       "Rating                    6.87\n",
       "Discipline                  70\n",
       "Own Fouls                    4\n",
       "Opponent Fouls               5\n",
       "Name: 3, dtype: object"
      ]
     },
     "execution_count": 3,
     "metadata": {},
     "output_type": "execute_result"
    }
   ],
   "source": [
    "highest_index = df['Shooting Accuracy'].idxmax()\n",
    "most_Shooting_Accuracy_team = df.iloc[highest_index]\n",
    "most_Shooting_Accuracy_team"
   ]
  },
  {
   "cell_type": "code",
   "execution_count": 8,
   "id": "8256b93d-5a18-4ebe-9369-d0af1e7b20e1",
   "metadata": {},
   "outputs": [
    {
     "name": "stdout",
     "output_type": "stream",
     "text": [
      "['Juventus' 'Aston Villa' 'Liverpool' 'AC Milan' 'Lille' 'Tottenham'\n",
      " 'Wolfsburg' 'Inter' 'Lyon' 'RB Leipzig' 'Leeds' 'West Ham'] teams made more fouls than their opponents\n",
      "           Team  Own Fouls  Opponent Fouls\n",
      "6      Juventus          7               1\n",
      "7   Aston Villa          8               2\n",
      "12    Liverpool          5               1\n",
      "13     AC Milan          6               2\n",
      "14        Lille          7               3\n",
      "15    Tottenham          8               5\n",
      "18    Wolfsburg          3               1\n",
      "19        Inter          4               2\n",
      "20         Lyon          5               3\n",
      "21   RB Leipzig          6               5\n",
      "22        Leeds          7               6\n",
      "23     West Ham          8               7\n"
     ]
    }
   ],
   "source": [
    "teams_more_fouls_than_opponents = df[df[\"Own Fouls\"]>df[\"Opponent Fouls\"]]\n",
    "num_teams_more_fouls_than_opponents = teams_more_fouls_than_opponents[\"Team\"].unique()\n",
    "print(f\"{num_teams_more_fouls_than_opponents} teams made more fouls than their opponents\")\n",
    "print(teams_more_fouls_than_opponents[[\"Team\",\"Own Fouls\",\"Opponent Fouls\"]])"
   ]
  },
  {
   "cell_type": "code",
   "execution_count": 9,
   "id": "b19ad0b0-a83e-43b0-8324-1b1d31b017a3",
   "metadata": {},
   "outputs": [],
   "source": []
  }
 ],
 "metadata": {
  "kernelspec": {
   "display_name": "Python 3 (ipykernel)",
   "language": "python",
   "name": "python3"
  },
  "language_info": {
   "codemirror_mode": {
    "name": "ipython",
    "version": 3
   },
   "file_extension": ".py",
   "mimetype": "text/x-python",
   "name": "python",
   "nbconvert_exporter": "python",
   "pygments_lexer": "ipython3",
   "version": "3.11.0"
  }
 },
 "nbformat": 4,
 "nbformat_minor": 5
}
