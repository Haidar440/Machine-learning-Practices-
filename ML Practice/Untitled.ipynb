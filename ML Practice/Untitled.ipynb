{
 "cells": [
  {
   "cell_type": "code",
   "execution_count": null,
   "id": "7bb7eba8-295a-45c7-84ce-f7449bb5703d",
   "metadata": {},
   "outputs": [],
   "source": [
    "import matplotlib.pyplot as plt\n",
    "import pandas as pd"
   ]
  },
  {
   "cell_type": "code",
   "execution_count": null,
   "id": "74482fad-4d50-4e63-98de-6e391411b4fd",
   "metadata": {},
   "outputs": [],
   "source": [
    "data = pd.read_csv(\"IndexData.csv\")\n",
    "df = pd.DataFrame(data)\n",
    "df"
   ]
  },
  {
   "cell_type": "code",
   "execution_count": null,
   "id": "0a771ec0-6f17-416a-ab6c-65f2df033d41",
   "metadata": {},
   "outputs": [],
   "source": [
    "x = df[\"Date\"]\n",
    "y = df[\"Close\"]\n",
    "plt.figure(figsize=(12, 6))\n",
    "plt.bar(x, y, color='blue')\n",
    "plt.xlabel(\"Date\")\n",
    "plt.ylabel(\"Closing Price\")\n",
    "plt.title(\"Stock Closing Prices Over Time\")\n",
    "plt.xticks(rotation=45)  \n",
    "plt.grid(axis=\"y\", linestyle=\"--\", alpha=0.7)\n",
    "plt.show()"
   ]
  },
  {
   "cell_type": "code",
   "execution_count": null,
   "id": "75cd2994-4cd0-4df5-bc99-206f0e535c66",
   "metadata": {},
   "outputs": [],
   "source": []
  },
  {
   "cell_type": "code",
   "execution_count": null,
   "id": "24eced96-5c47-48ff-8607-5e2ada4ee06b",
   "metadata": {},
   "outputs": [],
   "source": []
  }
 ],
 "metadata": {
  "kernelspec": {
   "display_name": "Python 3 (ipykernel)",
   "language": "python",
   "name": "python3"
  },
  "language_info": {
   "codemirror_mode": {
    "name": "ipython",
    "version": 3
   },
   "file_extension": ".py",
   "mimetype": "text/x-python",
   "name": "python",
   "nbconvert_exporter": "python",
   "pygments_lexer": "ipython3",
   "version": "3.11.0"
  }
 },
 "nbformat": 4,
 "nbformat_minor": 5
}
