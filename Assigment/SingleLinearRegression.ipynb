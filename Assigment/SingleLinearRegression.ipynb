{
 "cells": [
  {
   "cell_type": "code",
   "execution_count": 2,
   "id": "d207e84e-2632-4256-9a50-c1bf88af353e",
   "metadata": {},
   "outputs": [],
   "source": [
    "import pandas as pd\n",
    "import numpy as np\n",
    "import warnings \n",
    "warnings.filterwarnings('ignore')"
   ]
  },
  {
   "cell_type": "code",
   "execution_count": 3,
   "id": "5b03047a-b3dc-42ce-ad67-c0a88e4f470b",
   "metadata": {},
   "outputs": [],
   "source": [
    "df = pd.DataFrame(pd.read_csv(\"Laptop_price.csv\"))\n",
    "\n"
   ]
  },
  {
   "cell_type": "code",
   "execution_count": 4,
   "id": "c15e6394-b51d-4c57-951d-b8135f2e0833",
   "metadata": {},
   "outputs": [
    {
     "name": "stdout",
     "output_type": "stream",
     "text": [
      "<class 'pandas.core.frame.DataFrame'>\n",
      "RangeIndex: 1000 entries, 0 to 999\n",
      "Data columns (total 11 columns):\n",
      " #   Column            Non-Null Count  Dtype  \n",
      "---  ------            --------------  -----  \n",
      " 0   Unnamed: 0.3      1000 non-null   int64  \n",
      " 1   Unnamed: 0.2      821 non-null    float64\n",
      " 2   Unnamed: 0.1      677 non-null    float64\n",
      " 3   Unnamed: 0        586 non-null    float64\n",
      " 4   Brand             516 non-null    object \n",
      " 5   Processor_Speed   503 non-null    float64\n",
      " 6   RAM_Size          513 non-null    float64\n",
      " 7   Storage_Capacity  522 non-null    float64\n",
      " 8   Screen_Size       522 non-null    float64\n",
      " 9   Weight            524 non-null    float64\n",
      " 10  Price             530 non-null    float64\n",
      "dtypes: float64(9), int64(1), object(1)\n",
      "memory usage: 86.1+ KB\n"
     ]
    }
   ],
   "source": [
    "df.info()"
   ]
  },
  {
   "cell_type": "code",
   "execution_count": 5,
   "id": "5b08ab06-c8b1-4f78-8152-828b7aafb264",
   "metadata": {},
   "outputs": [
    {
     "data": {
      "text/html": [
       "<div>\n",
       "<style scoped>\n",
       "    .dataframe tbody tr th:only-of-type {\n",
       "        vertical-align: middle;\n",
       "    }\n",
       "\n",
       "    .dataframe tbody tr th {\n",
       "        vertical-align: top;\n",
       "    }\n",
       "\n",
       "    .dataframe thead th {\n",
       "        text-align: right;\n",
       "    }\n",
       "</style>\n",
       "<table border=\"1\" class=\"dataframe\">\n",
       "  <thead>\n",
       "    <tr style=\"text-align: right;\">\n",
       "      <th></th>\n",
       "      <th>Unnamed: 0.3</th>\n",
       "      <th>Unnamed: 0.2</th>\n",
       "      <th>Unnamed: 0.1</th>\n",
       "      <th>Unnamed: 0</th>\n",
       "      <th>Processor_Speed</th>\n",
       "      <th>RAM_Size</th>\n",
       "      <th>Storage_Capacity</th>\n",
       "      <th>Screen_Size</th>\n",
       "      <th>Weight</th>\n",
       "      <th>Price</th>\n",
       "    </tr>\n",
       "  </thead>\n",
       "  <tbody>\n",
       "    <tr>\n",
       "      <th>count</th>\n",
       "      <td>1000.000000</td>\n",
       "      <td>821.000000</td>\n",
       "      <td>677.000000</td>\n",
       "      <td>586.000000</td>\n",
       "      <td>503.000000</td>\n",
       "      <td>513.000000</td>\n",
       "      <td>522.000000</td>\n",
       "      <td>522.000000</td>\n",
       "      <td>524.000000</td>\n",
       "      <td>530.000000</td>\n",
       "    </tr>\n",
       "    <tr>\n",
       "      <th>mean</th>\n",
       "      <td>499.500000</td>\n",
       "      <td>488.540804</td>\n",
       "      <td>511.375185</td>\n",
       "      <td>503.610922</td>\n",
       "      <td>2.735669</td>\n",
       "      <td>15.165692</td>\n",
       "      <td>589.195402</td>\n",
       "      <td>14.092343</td>\n",
       "      <td>3.472393</td>\n",
       "      <td>19667.096689</td>\n",
       "    </tr>\n",
       "    <tr>\n",
       "      <th>std</th>\n",
       "      <td>288.819436</td>\n",
       "      <td>286.118549</td>\n",
       "      <td>284.937771</td>\n",
       "      <td>285.193080</td>\n",
       "      <td>0.756528</td>\n",
       "      <td>10.941153</td>\n",
       "      <td>312.372207</td>\n",
       "      <td>1.707953</td>\n",
       "      <td>0.885382</td>\n",
       "      <td>9152.697053</td>\n",
       "    </tr>\n",
       "    <tr>\n",
       "      <th>min</th>\n",
       "      <td>0.000000</td>\n",
       "      <td>1.000000</td>\n",
       "      <td>0.000000</td>\n",
       "      <td>2.000000</td>\n",
       "      <td>1.512350</td>\n",
       "      <td>4.000000</td>\n",
       "      <td>256.000000</td>\n",
       "      <td>11.012111</td>\n",
       "      <td>2.000560</td>\n",
       "      <td>8570.012950</td>\n",
       "    </tr>\n",
       "    <tr>\n",
       "      <th>25%</th>\n",
       "      <td>249.750000</td>\n",
       "      <td>241.000000</td>\n",
       "      <td>275.000000</td>\n",
       "      <td>264.250000</td>\n",
       "      <td>2.050837</td>\n",
       "      <td>4.000000</td>\n",
       "      <td>256.000000</td>\n",
       "      <td>12.640260</td>\n",
       "      <td>2.675831</td>\n",
       "      <td>10407.896330</td>\n",
       "    </tr>\n",
       "    <tr>\n",
       "      <th>50%</th>\n",
       "      <td>499.500000</td>\n",
       "      <td>485.000000</td>\n",
       "      <td>514.000000</td>\n",
       "      <td>507.000000</td>\n",
       "      <td>2.741917</td>\n",
       "      <td>8.000000</td>\n",
       "      <td>512.000000</td>\n",
       "      <td>14.192515</td>\n",
       "      <td>3.462152</td>\n",
       "      <td>17314.063457</td>\n",
       "    </tr>\n",
       "    <tr>\n",
       "      <th>75%</th>\n",
       "      <td>749.250000</td>\n",
       "      <td>730.000000</td>\n",
       "      <td>757.000000</td>\n",
       "      <td>745.750000</td>\n",
       "      <td>3.414998</td>\n",
       "      <td>32.000000</td>\n",
       "      <td>1000.000000</td>\n",
       "      <td>15.641059</td>\n",
       "      <td>4.265277</td>\n",
       "      <td>31566.226873</td>\n",
       "    </tr>\n",
       "    <tr>\n",
       "      <th>max</th>\n",
       "      <td>999.000000</td>\n",
       "      <td>999.000000</td>\n",
       "      <td>999.000000</td>\n",
       "      <td>999.000000</td>\n",
       "      <td>3.998534</td>\n",
       "      <td>32.000000</td>\n",
       "      <td>1000.000000</td>\n",
       "      <td>16.978390</td>\n",
       "      <td>4.990728</td>\n",
       "      <td>33503.935037</td>\n",
       "    </tr>\n",
       "  </tbody>\n",
       "</table>\n",
       "</div>"
      ],
      "text/plain": [
       "       Unnamed: 0.3  Unnamed: 0.2  Unnamed: 0.1  Unnamed: 0  Processor_Speed  \\\n",
       "count   1000.000000    821.000000    677.000000  586.000000       503.000000   \n",
       "mean     499.500000    488.540804    511.375185  503.610922         2.735669   \n",
       "std      288.819436    286.118549    284.937771  285.193080         0.756528   \n",
       "min        0.000000      1.000000      0.000000    2.000000         1.512350   \n",
       "25%      249.750000    241.000000    275.000000  264.250000         2.050837   \n",
       "50%      499.500000    485.000000    514.000000  507.000000         2.741917   \n",
       "75%      749.250000    730.000000    757.000000  745.750000         3.414998   \n",
       "max      999.000000    999.000000    999.000000  999.000000         3.998534   \n",
       "\n",
       "         RAM_Size  Storage_Capacity  Screen_Size      Weight         Price  \n",
       "count  513.000000        522.000000   522.000000  524.000000    530.000000  \n",
       "mean    15.165692        589.195402    14.092343    3.472393  19667.096689  \n",
       "std     10.941153        312.372207     1.707953    0.885382   9152.697053  \n",
       "min      4.000000        256.000000    11.012111    2.000560   8570.012950  \n",
       "25%      4.000000        256.000000    12.640260    2.675831  10407.896330  \n",
       "50%      8.000000        512.000000    14.192515    3.462152  17314.063457  \n",
       "75%     32.000000       1000.000000    15.641059    4.265277  31566.226873  \n",
       "max     32.000000       1000.000000    16.978390    4.990728  33503.935037  "
      ]
     },
     "execution_count": 5,
     "metadata": {},
     "output_type": "execute_result"
    }
   ],
   "source": [
    "df.describe()"
   ]
  },
  {
   "cell_type": "code",
   "execution_count": 6,
   "id": "d56d8de9-4e68-45eb-b386-7531ad30b1dd",
   "metadata": {},
   "outputs": [
    {
     "data": {
      "text/plain": [
       "Unnamed: 0.3          0\n",
       "Unnamed: 0.2        179\n",
       "Unnamed: 0.1        323\n",
       "Unnamed: 0          414\n",
       "Brand               484\n",
       "Processor_Speed     497\n",
       "RAM_Size            487\n",
       "Storage_Capacity    478\n",
       "Screen_Size         478\n",
       "Weight              476\n",
       "Price               470\n",
       "dtype: int64"
      ]
     },
     "execution_count": 6,
     "metadata": {},
     "output_type": "execute_result"
    }
   ],
   "source": [
    "df.isnull().sum()"
   ]
  },
  {
   "cell_type": "code",
   "execution_count": 7,
   "id": "83b133a4-89ce-4e15-a9f6-ddb2de69675c",
   "metadata": {},
   "outputs": [
    {
     "name": "stdout",
     "output_type": "stream",
     "text": [
      "531\n",
      "[19667.09668945 31607.60591927 17436.72833421  9543.71998013\n",
      "  9214.484506   18501.83273321 31967.60763154 18534.10862992\n",
      " 17495.98363759  9637.8916382 ]\n"
     ]
    }
   ],
   "source": [
    "df.fillna(df.mean(),inplace=True)\n",
    "df[\"Brand\"].fillna(df[\"Brand\"].mode()[0],inplace=True)\n",
    "print(df[\"Price\"].nunique())  # Count unique values\n",
    "print(df[\"Price\"].unique()[:10])  # Show first 10 unique values\n"
   ]
  },
  {
   "cell_type": "code",
   "execution_count": 8,
   "id": "f9f522b7-b353-4162-b663-65d47bfbd3d1",
   "metadata": {},
   "outputs": [
    {
     "name": "stdout",
     "output_type": "stream",
     "text": [
      "531\n",
      "[19667.09668945 31607.60591927 17436.72833421  9543.71998013\n",
      "  9214.484506   18501.83273321 31967.60763154 18534.10862992\n",
      " 17495.98363759  9637.8916382 ]\n"
     ]
    }
   ],
   "source": [
    "df.drop(columns=[\"Unnamed: 0.2\",\"Unnamed: 0.1\",\"Unnamed: 0\",\"Weight\"],inplace=True)\n",
    "df.drop(columns=[\"Unnamed: 0.3\"],inplace=True)\n",
    "print(df[\"Price\"].nunique())  # Count unique values\n",
    "print(df[\"Price\"].unique()[:10])  # Show first 10 unique values\n"
   ]
  },
  {
   "cell_type": "code",
   "execution_count": 9,
   "id": "d9f5baea-388c-4b2f-a39a-85c4d50b409d",
   "metadata": {},
   "outputs": [
    {
     "data": {
      "image/png": "[encoded data removed]",
      "text/plain": [
       "<Figure size 600x400 with 1 Axes>"
      ]
     },
     "metadata": {},
     "output_type": "display_data"
    }
   ],
   "source": [
    "import pandas as pd\n",
    "import numpy as np \n",
    "import seaborn as sns\n",
    "import matplotlib.pyplot as plt\n",
    "\n",
    "# First Plot: Check outliers in \"Price\" before removal\n",
    "plt.figure(figsize=(6, 4))\n",
    "sns.boxplot(y=df[\"Price\"], color=\"red\")\n",
    "plt.title(\"Before Outlier Removal: Price\")\n",
    "plt.show()\n"
   ]
  },
  {
   "cell_type": "code",
   "execution_count": 10,
   "id": "6bd4de0d-e6b6-45f6-b4bf-312bf24a9f51",
   "metadata": {},
   "outputs": [
    {
     "name": "stdout",
     "output_type": "stream",
     "text": [
      "Lower Bound: 13471.19778643283, Upper Bound: 23384.6360312587\n",
      "Number of rows before outlier removal: 1000\n",
      "Number of rows after outlier removal: 654\n"
     ]
    }
   ],
   "source": [
    "# Compute Q1 (25th percentile) and Q3 (75th percentile)\n",
    "Q1 = df[\"Price\"].quantile(0.25)\n",
    "Q3 = df[\"Price\"].quantile(0.75)\n",
    "IQR = Q3 - Q1  # Interquartile Range\n",
    "\n",
    "# Define lower and upper bounds for outliers\n",
    "lower_bound = Q1 - 1.5 * IQR\n",
    "upper_bound = Q3 + 1.5 * IQR\n",
    "\n",
    "print(f\"Lower Bound: {lower_bound}, Upper Bound: {upper_bound}\")\n",
    "\n",
    "# Remove rows where \"Price\" is an outlier\n",
    "df_cleaned = df[(df[\"Price\"] >= lower_bound) & (df[\"Price\"] <= upper_bound)]\n",
    "\n",
    "print(f\"Number of rows before outlier removal: {len(df)}\")\n",
    "print(f\"Number of rows after outlier removal: {len(df_cleaned)}\")\n",
    "\n"
   ]
  },
  {
   "cell_type": "code",
   "execution_count": 11,
   "id": "d9d629fe-51fb-4d22-9aed-f5e12340cbd3",
   "metadata": {},
   "outputs": [
    {
     "data": {
      "image/png": "[encoded data removed]",
      "text/plain": [
       "<Figure size 600x400 with 1 Axes>"
      ]
     },
     "metadata": {},
     "output_type": "display_data"
    }
   ],
   "source": [
    "# Second Plot: Check outliers in \"Price\" after removal\n",
    "plt.figure(figsize=(6, 4))\n",
    "sns.boxplot(y=df_cleaned[\"Price\"], color=\"green\")\n",
    "plt.title(\"After Outlier Removal: Price\")\n",
    "plt.show()\n",
    "\n"
   ]
  },
  {
   "cell_type": "code",
   "execution_count": 12,
   "id": "4e7b2c57-6959-4538-a113-f2ada1f3265d",
   "metadata": {},
   "outputs": [
    {
     "data": {
      "text/plain": [
       "array([2, 4, 0, 1, 3])"
      ]
     },
     "execution_count": 12,
     "metadata": {},
     "output_type": "execute_result"
    }
   ],
   "source": [
    "from sklearn.preprocessing import LabelEncoder\n",
    "label_encoder = LabelEncoder()\n",
    "df[\"Brand\"] = label_encoder.fit_transform(df[\"Brand\"])\n",
    "df[\"Brand\"].unique()\n"
   ]
  },
  {
   "cell_type": "code",
   "execution_count": 13,
   "id": "36ce8493-997e-41ba-8b33-397dd129ce84",
   "metadata": {},
   "outputs": [
    {
     "name": "stdout",
     "output_type": "stream",
     "text": [
      "                     Brand  Processor_Speed  RAM_Size  Storage_Capacity  \\\n",
      "Brand             1.000000         0.029720  0.010042          0.009551   \n",
      "Processor_Speed   0.029720         1.000000  0.003059         -0.035952   \n",
      "RAM_Size          0.010042         0.003059  1.000000         -0.044783   \n",
      "Storage_Capacity  0.009551        -0.035952 -0.044783          1.000000   \n",
      "Screen_Size      -0.064391        -0.001801 -0.035560         -0.014936   \n",
      "Price            -0.007023         0.008884 -0.006775          0.608525   \n",
      "\n",
      "                  Screen_Size     Price  \n",
      "Brand               -0.064391 -0.007023  \n",
      "Processor_Speed     -0.001801  0.008884  \n",
      "RAM_Size            -0.035560 -0.006775  \n",
      "Storage_Capacity    -0.014936  0.608525  \n",
      "Screen_Size          1.000000 -0.025584  \n",
      "Price               -0.025584  1.000000  \n"
     ]
    },
    {
     "data": {
      "text/html": [
       "<div>\n",
       "<style scoped>\n",
       "    .dataframe tbody tr th:only-of-type {\n",
       "        vertical-align: middle;\n",
       "    }\n",
       "\n",
       "    .dataframe tbody tr th {\n",
       "        vertical-align: top;\n",
       "    }\n",
       "\n",
       "    .dataframe thead th {\n",
       "        text-align: right;\n",
       "    }\n",
       "</style>\n",
       "<table border=\"1\" class=\"dataframe\">\n",
       "  <thead>\n",
       "    <tr style=\"text-align: right;\">\n",
       "      <th></th>\n",
       "      <th>Brand</th>\n",
       "      <th>Processor_Speed</th>\n",
       "      <th>RAM_Size</th>\n",
       "      <th>Storage_Capacity</th>\n",
       "      <th>Screen_Size</th>\n",
       "      <th>Price</th>\n",
       "    </tr>\n",
       "  </thead>\n",
       "  <tbody>\n",
       "    <tr>\n",
       "      <th>0</th>\n",
       "      <td>2</td>\n",
       "      <td>2.735669</td>\n",
       "      <td>15.165692</td>\n",
       "      <td>589.195402</td>\n",
       "      <td>14.092343</td>\n",
       "      <td>19667.096689</td>\n",
       "    </tr>\n",
       "    <tr>\n",
       "      <th>1</th>\n",
       "      <td>2</td>\n",
       "      <td>2.912833</td>\n",
       "      <td>15.165692</td>\n",
       "      <td>589.195402</td>\n",
       "      <td>14.092343</td>\n",
       "      <td>31607.605919</td>\n",
       "    </tr>\n",
       "    <tr>\n",
       "      <th>2</th>\n",
       "      <td>4</td>\n",
       "      <td>2.735669</td>\n",
       "      <td>4.000000</td>\n",
       "      <td>589.195402</td>\n",
       "      <td>11.853023</td>\n",
       "      <td>19667.096689</td>\n",
       "    </tr>\n",
       "    <tr>\n",
       "      <th>3</th>\n",
       "      <td>0</td>\n",
       "      <td>2.735669</td>\n",
       "      <td>15.165692</td>\n",
       "      <td>512.000000</td>\n",
       "      <td>14.092343</td>\n",
       "      <td>17436.728334</td>\n",
       "    </tr>\n",
       "    <tr>\n",
       "      <th>4</th>\n",
       "      <td>2</td>\n",
       "      <td>2.735669</td>\n",
       "      <td>15.165692</td>\n",
       "      <td>589.195402</td>\n",
       "      <td>14.092343</td>\n",
       "      <td>19667.096689</td>\n",
       "    </tr>\n",
       "    <tr>\n",
       "      <th>...</th>\n",
       "      <td>...</td>\n",
       "      <td>...</td>\n",
       "      <td>...</td>\n",
       "      <td>...</td>\n",
       "      <td>...</td>\n",
       "      <td>...</td>\n",
       "    </tr>\n",
       "    <tr>\n",
       "      <th>995</th>\n",
       "      <td>2</td>\n",
       "      <td>2.735669</td>\n",
       "      <td>15.165692</td>\n",
       "      <td>589.195402</td>\n",
       "      <td>14.092343</td>\n",
       "      <td>31593.668017</td>\n",
       "    </tr>\n",
       "    <tr>\n",
       "      <th>996</th>\n",
       "      <td>2</td>\n",
       "      <td>2.735669</td>\n",
       "      <td>15.165692</td>\n",
       "      <td>589.195402</td>\n",
       "      <td>12.679356</td>\n",
       "      <td>19667.096689</td>\n",
       "    </tr>\n",
       "    <tr>\n",
       "      <th>997</th>\n",
       "      <td>2</td>\n",
       "      <td>2.735669</td>\n",
       "      <td>4.000000</td>\n",
       "      <td>512.000000</td>\n",
       "      <td>12.666315</td>\n",
       "      <td>16552.404779</td>\n",
       "    </tr>\n",
       "    <tr>\n",
       "      <th>998</th>\n",
       "      <td>2</td>\n",
       "      <td>2.735669</td>\n",
       "      <td>15.165692</td>\n",
       "      <td>589.195402</td>\n",
       "      <td>11.215581</td>\n",
       "      <td>19667.096689</td>\n",
       "    </tr>\n",
       "    <tr>\n",
       "      <th>999</th>\n",
       "      <td>4</td>\n",
       "      <td>1.711980</td>\n",
       "      <td>4.000000</td>\n",
       "      <td>256.000000</td>\n",
       "      <td>16.561498</td>\n",
       "      <td>8807.696702</td>\n",
       "    </tr>\n",
       "  </tbody>\n",
       "</table>\n",
       "<p>1000 rows × 6 columns</p>\n",
       "</div>"
      ],
      "text/plain": [
       "     Brand  Processor_Speed   RAM_Size  Storage_Capacity  Screen_Size  \\\n",
       "0        2         2.735669  15.165692        589.195402    14.092343   \n",
       "1        2         2.912833  15.165692        589.195402    14.092343   \n",
       "2        4         2.735669   4.000000        589.195402    11.853023   \n",
       "3        0         2.735669  15.165692        512.000000    14.092343   \n",
       "4        2         2.735669  15.165692        589.195402    14.092343   \n",
       "..     ...              ...        ...               ...          ...   \n",
       "995      2         2.735669  15.165692        589.195402    14.092343   \n",
       "996      2         2.735669  15.165692        589.195402    12.679356   \n",
       "997      2         2.735669   4.000000        512.000000    12.666315   \n",
       "998      2         2.735669  15.165692        589.195402    11.215581   \n",
       "999      4         1.711980   4.000000        256.000000    16.561498   \n",
       "\n",
       "            Price  \n",
       "0    19667.096689  \n",
       "1    31607.605919  \n",
       "2    19667.096689  \n",
       "3    17436.728334  \n",
       "4    19667.096689  \n",
       "..            ...  \n",
       "995  31593.668017  \n",
       "996  19667.096689  \n",
       "997  16552.404779  \n",
       "998  19667.096689  \n",
       "999   8807.696702  \n",
       "\n",
       "[1000 rows x 6 columns]"
      ]
     },
     "execution_count": 13,
     "metadata": {},
     "output_type": "execute_result"
    }
   ],
   "source": [
    "import pandas as pd\n",
    "correlation_matrix = df.corr()\n",
    "print(correlation_matrix)\n",
    "df"
   ]
  },
  {
   "cell_type": "code",
   "execution_count": 14,
   "id": "6dbb3e74-7eab-4a70-bb45-526e7141264c",
   "metadata": {},
   "outputs": [
    {
     "data": {
      "image/png": "[encoded data removed]",
      "text/plain": [
       "<Figure size 1000x600 with 2 Axes>"
      ]
     },
     "metadata": {},
     "output_type": "display_data"
    }
   ],
   "source": [
    "\n",
    "correlation_matrix = df.corr()\n",
    "\n",
    "plt.figure(figsize=(10, 6))\n",
    "\n",
    "sns.heatmap(correlation_matrix, annot=True, cmap=\"coolwarm\", fmt=\".2f\", linewidths=0.5)\n",
    "\n",
    "plt.title(\"Feature Correlation Heatmap\")\n",
    "\n",
    "plt.show()\n"
   ]
  },
  {
   "cell_type": "code",
   "execution_count": 131,
   "id": "69bbd306-b1ff-440c-872b-c7c142c4be24",
   "metadata": {},
   "outputs": [
    {
     "data": {
      "image/png": "[encoded data removed]",
      "text/plain": [
       "<Figure size 800x600 with 1 Axes>"
      ]
     },
     "metadata": {},
     "output_type": "display_data"
    }
   ],
   "source": [
    "import matplotlib.pyplot as plt\n",
    "\n",
    "# Histogram to check price distribution\n",
    "plt.figure(figsize=(8,6))\n",
    "plt.hist(df['Price'], bins=30, color='blue', edgecolor='black')\n",
    "plt.title(\"Price Distribution\")\n",
    "plt.xlabel(\"Price\")\n",
    "plt.ylabel(\"Frequency\")\n",
    "plt.grid(axis='y', linestyle='--', alpha=0.7)\n",
    "plt.show()\n"
   ]
  },
  {
   "cell_type": "code",
   "execution_count": 15,
   "id": "5feaeab4-3d09-4cb9-a876-fa3c2b6583f2",
   "metadata": {},
   "outputs": [
    {
     "name": "stdout",
     "output_type": "stream",
     "text": [
      "Train R²: 0.2869\n",
      "Test R²: 0.5417\n"
     ]
    }
   ],
   "source": [
    "from sklearn.model_selection import train_test_split\n",
    "from sklearn.preprocessing import MinMaxScaler\n",
    "from sklearn.linear_model import LinearRegression\n",
    "from sklearn.metrics import r2_score\n",
    "\n",
    "Y = df[\"Price\"]\n",
    "X = df[[\"Storage_Capacity\",\"\"]]\n",
    "\n",
    "X_train, X_test, Y_train, Y_test = train_test_split(X, Y, test_size=0.2, random_state=42)\n",
    "\n",
    "# Scale features\n",
    "scaler = MinMaxScaler()\n",
    "X_train_scaled = pd.DataFrame(scaler.fit_transform(X_train), columns=X.columns)\n",
    "X_test_scaled = pd.DataFrame(scaler.transform(X_test), columns=X.columns)\n",
    "\n",
    "# Train model\n",
    "model = LinearRegression()\n",
    "model.fit(X_train_scaled, Y_train)\n",
    "\n",
    "# Predictions\n",
    "y_train_pred = model.predict(X_train_scaled)\n",
    "y_test_pred = model.predict(X_test_scaled)\n",
    "\n",
    "# Model evaluation\n",
    "r2_train = r2_score(Y_train, y_train_pred)\n",
    "r2_test = r2_score(Y_test, y_test_pred)\n",
    "\n",
    "print(f\"Train R²: {r2_train:.4f}\")\n",
    "print(f\"Test R²: {r2_test:.4f}\")"
   ]
  },
  {
   "cell_type": "code",
   "execution_count": 16,
   "id": "20e0abf3-e438-4884-99bc-7447f971b228",
   "metadata": {},
   "outputs": [
    {
     "name": "stdout",
     "output_type": "stream",
     "text": [
      "                     Brand  Processor_Speed  RAM_Size  Storage_Capacity  \\\n",
      "Brand             1.000000         0.029720  0.010042          0.009551   \n",
      "Processor_Speed   0.029720         1.000000  0.003059         -0.035952   \n",
      "RAM_Size          0.010042         0.003059  1.000000         -0.044783   \n",
      "Storage_Capacity  0.009551        -0.035952 -0.044783          1.000000   \n",
      "Screen_Size      -0.064391        -0.001801 -0.035560         -0.014936   \n",
      "Price            -0.007023         0.008884 -0.006775          0.608525   \n",
      "\n",
      "                  Screen_Size     Price  \n",
      "Brand               -0.064391 -0.007023  \n",
      "Processor_Speed     -0.001801  0.008884  \n",
      "RAM_Size            -0.035560 -0.006775  \n",
      "Storage_Capacity    -0.014936  0.608525  \n",
      "Screen_Size          1.000000 -0.025584  \n",
      "Price               -0.025584  1.000000  \n"
     ]
    }
   ],
   "source": [
    "print(df.corr())  # Check correlation between Processor_Speed and Price\n",
    "\n"
   ]
  },
  {
   "cell_type": "code",
   "execution_count": 19,
   "id": "ad95a7f4-15f1-40cb-b001-280574d84e83",
   "metadata": {},
   "outputs": [
    {
     "name": "stdout",
     "output_type": "stream",
     "text": [
      "531\n",
      "[19667.09668945 31607.60591927 17436.72833421  9543.71998013\n",
      "  9214.484506   18501.83273321 31967.60763154 18534.10862992\n",
      " 17495.98363759  9637.8916382 ]\n"
     ]
    }
   ],
   "source": [
    "print(df[\"Price\"].nunique())  # Count unique values\n",
    "print(df[\"Price\"].unique()[:10])  # Show first 10 unique values\n",
    "\n"
   ]
  },
  {
   "cell_type": "code",
   "execution_count": 20,
   "id": "5a699e00-3b00-4266-b6bb-5fbf4536f71c",
   "metadata": {},
   "outputs": [
    {
     "name": "stdout",
     "output_type": "stream",
     "text": [
      "Empty DataFrame\n",
      "Columns: [Brand, Processor_Speed, RAM_Size, Storage_Capacity, Screen_Size, Price]\n",
      "Index: []\n",
      "0\n"
     ]
    },
    {
     "data": {
      "text/html": [
       "<div>\n",
       "<style scoped>\n",
       "    .dataframe tbody tr th:only-of-type {\n",
       "        vertical-align: middle;\n",
       "    }\n",
       "\n",
       "    .dataframe tbody tr th {\n",
       "        vertical-align: top;\n",
       "    }\n",
       "\n",
       "    .dataframe thead th {\n",
       "        text-align: right;\n",
       "    }\n",
       "</style>\n",
       "<table border=\"1\" class=\"dataframe\">\n",
       "  <thead>\n",
       "    <tr style=\"text-align: right;\">\n",
       "      <th></th>\n",
       "      <th>Brand</th>\n",
       "      <th>Processor_Speed</th>\n",
       "      <th>RAM_Size</th>\n",
       "      <th>Storage_Capacity</th>\n",
       "      <th>Screen_Size</th>\n",
       "      <th>Price</th>\n",
       "    </tr>\n",
       "  </thead>\n",
       "  <tbody>\n",
       "    <tr>\n",
       "      <th>0</th>\n",
       "      <td>2</td>\n",
       "      <td>2.735669</td>\n",
       "      <td>15.165692</td>\n",
       "      <td>589.195402</td>\n",
       "      <td>14.092343</td>\n",
       "      <td>19667.096689</td>\n",
       "    </tr>\n",
       "    <tr>\n",
       "      <th>1</th>\n",
       "      <td>2</td>\n",
       "      <td>2.912833</td>\n",
       "      <td>15.165692</td>\n",
       "      <td>589.195402</td>\n",
       "      <td>14.092343</td>\n",
       "      <td>31607.605919</td>\n",
       "    </tr>\n",
       "    <tr>\n",
       "      <th>2</th>\n",
       "      <td>4</td>\n",
       "      <td>2.735669</td>\n",
       "      <td>4.000000</td>\n",
       "      <td>589.195402</td>\n",
       "      <td>11.853023</td>\n",
       "      <td>19667.096689</td>\n",
       "    </tr>\n",
       "    <tr>\n",
       "      <th>3</th>\n",
       "      <td>0</td>\n",
       "      <td>2.735669</td>\n",
       "      <td>15.165692</td>\n",
       "      <td>512.000000</td>\n",
       "      <td>14.092343</td>\n",
       "      <td>17436.728334</td>\n",
       "    </tr>\n",
       "    <tr>\n",
       "      <th>4</th>\n",
       "      <td>2</td>\n",
       "      <td>2.735669</td>\n",
       "      <td>15.165692</td>\n",
       "      <td>589.195402</td>\n",
       "      <td>14.092343</td>\n",
       "      <td>19667.096689</td>\n",
       "    </tr>\n",
       "    <tr>\n",
       "      <th>...</th>\n",
       "      <td>...</td>\n",
       "      <td>...</td>\n",
       "      <td>...</td>\n",
       "      <td>...</td>\n",
       "      <td>...</td>\n",
       "      <td>...</td>\n",
       "    </tr>\n",
       "    <tr>\n",
       "      <th>995</th>\n",
       "      <td>2</td>\n",
       "      <td>2.735669</td>\n",
       "      <td>15.165692</td>\n",
       "      <td>589.195402</td>\n",
       "      <td>14.092343</td>\n",
       "      <td>31593.668017</td>\n",
       "    </tr>\n",
       "    <tr>\n",
       "      <th>996</th>\n",
       "      <td>2</td>\n",
       "      <td>2.735669</td>\n",
       "      <td>15.165692</td>\n",
       "      <td>589.195402</td>\n",
       "      <td>12.679356</td>\n",
       "      <td>19667.096689</td>\n",
       "    </tr>\n",
       "    <tr>\n",
       "      <th>997</th>\n",
       "      <td>2</td>\n",
       "      <td>2.735669</td>\n",
       "      <td>4.000000</td>\n",
       "      <td>512.000000</td>\n",
       "      <td>12.666315</td>\n",
       "      <td>16552.404779</td>\n",
       "    </tr>\n",
       "    <tr>\n",
       "      <th>998</th>\n",
       "      <td>2</td>\n",
       "      <td>2.735669</td>\n",
       "      <td>15.165692</td>\n",
       "      <td>589.195402</td>\n",
       "      <td>11.215581</td>\n",
       "      <td>19667.096689</td>\n",
       "    </tr>\n",
       "    <tr>\n",
       "      <th>999</th>\n",
       "      <td>4</td>\n",
       "      <td>1.711980</td>\n",
       "      <td>4.000000</td>\n",
       "      <td>256.000000</td>\n",
       "      <td>16.561498</td>\n",
       "      <td>8807.696702</td>\n",
       "    </tr>\n",
       "  </tbody>\n",
       "</table>\n",
       "<p>1000 rows × 6 columns</p>\n",
       "</div>"
      ],
      "text/plain": [
       "     Brand  Processor_Speed   RAM_Size  Storage_Capacity  Screen_Size  \\\n",
       "0        2         2.735669  15.165692        589.195402    14.092343   \n",
       "1        2         2.912833  15.165692        589.195402    14.092343   \n",
       "2        4         2.735669   4.000000        589.195402    11.853023   \n",
       "3        0         2.735669  15.165692        512.000000    14.092343   \n",
       "4        2         2.735669  15.165692        589.195402    14.092343   \n",
       "..     ...              ...        ...               ...          ...   \n",
       "995      2         2.735669  15.165692        589.195402    14.092343   \n",
       "996      2         2.735669  15.165692        589.195402    12.679356   \n",
       "997      2         2.735669   4.000000        512.000000    12.666315   \n",
       "998      2         2.735669  15.165692        589.195402    11.215581   \n",
       "999      4         1.711980   4.000000        256.000000    16.561498   \n",
       "\n",
       "            Price  \n",
       "0    19667.096689  \n",
       "1    31607.605919  \n",
       "2    19667.096689  \n",
       "3    17436.728334  \n",
       "4    19667.096689  \n",
       "..            ...  \n",
       "995  31593.668017  \n",
       "996  19667.096689  \n",
       "997  16552.404779  \n",
       "998  19667.096689  \n",
       "999   8807.696702  \n",
       "\n",
       "[1000 rows x 6 columns]"
      ]
     },
     "execution_count": 20,
     "metadata": {},
     "output_type": "execute_result"
    }
   ],
   "source": [
    "print(df[df[\"Price\"] == float(\"inf\")])  # Find rows with infinite values\n",
    "print(df[\"Price\"].isna().sum())  # Double-check if NaN exists\n",
    "df = df.replace([float(\"inf\"), -float(\"inf\")], pd.NA)  # Convert inf to NaN\n",
    "df[\"Price\"].fillna(df[\"Price\"].median(), inplace=True)  # Replace NaN with median price\n",
    "df"
   ]
  },
  {
   "cell_type": "code",
   "execution_count": null,
   "id": "f4754aea-d98e-40e8-8e25-7ce9049357ac",
   "metadata": {},
   "outputs": [],
   "source": []
  }
 ],
 "metadata": {
  "kernelspec": {
   "display_name": "Python 3 (ipykernel)",
   "language": "python",
   "name": "python3"
  },
  "language_info": {
   "codemirror_mode": {
    "name": "ipython",
    "version": 3
   },
   "file_extension": ".py",
   "mimetype": "text/x-python",
   "name": "python",
   "nbconvert_exporter": "python",
   "pygments_lexer": "ipython3",
   "version": "3.11.0"
  }
 },
 "nbformat": 4,
 "nbformat_minor": 5
}
