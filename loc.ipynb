{
 "cells": [
  {
   "cell_type": "code",
   "execution_count": 2,
   "id": "87b45c94-a6aa-45ce-8eef-7241dbc3c135",
   "metadata": {},
   "outputs": [],
   "source": [
    "import pandas as pd\n",
    "\n",
    "data = {\n",
    "    \"Name\": [\"Ajay\", \"Amit\", \"Keerthi\", \"Prem\", \"Priya\", \"Pragna\"],\n",
    "    \"Stream\": [\"Math\", \"Commerce\", \"Science\", \"Math\", \"Math\", \"Science\"],\n",
    "    \"Percentage\": [88, 92, 95, 70, 65, 78]\n",
    "}\n",
    "\n",
    "df = pd.DataFrame(data)"
   ]
  },
  {
   "cell_type": "code",
   "execution_count": 6,
   "id": "beddce1d-3102-4bda-bbed-321ae5605ad0",
   "metadata": {},
   "outputs": [
    {
     "name": "stdout",
     "output_type": "stream",
     "text": [
      "      Name    Stream  Percentage\n",
      "0     Ajay      Math          88\n",
      "1     Amit  Commerce          92\n",
      "2  Keerthi   Science          95\n"
     ]
    }
   ],
   "source": [
    "# 1. Select all the rows from the given dataframe in which ‘Percentage’ is greater than 80 using basic method. \n",
    "result = df[df[\"Percentage\"]>80]\n",
    "print(result)"
   ]
  },
  {
   "cell_type": "code",
   "execution_count": 10,
   "id": "fb9ae7bd-0016-405d-9f30-0e4f81c21cc1",
   "metadata": {},
   "outputs": [
    {
     "name": "stdout",
     "output_type": "stream",
     "text": [
      "      Name    Stream  Percentage\n",
      "0     Ajay      Math          88\n",
      "1     Amit  Commerce          92\n",
      "2  Keerthi   Science          95\n"
     ]
    }
   ],
   "source": [
    "# 2. Select all the rows from the given dataframe in which ‘Percentage’ is greater than 80 using loc.\n",
    "result = df.loc[df[\"Percentage\"]>80]\n",
    "print(result)"
   ]
  },
  {
   "cell_type": "code",
   "execution_count": 16,
   "id": "52afabe7-94fe-4cf2-9045-bfbea2d7c164",
   "metadata": {},
   "outputs": [
    {
     "name": "stdout",
     "output_type": "stream",
     "text": [
      "      Name  Percentage\n",
      "0     Ajay          88\n",
      "1     Amit          92\n",
      "2  Keerthi          95\n",
      "3     Prem          70\n",
      "4    Priya          65\n",
      "5   Pragna          78\n"
     ]
    }
   ],
   "source": [
    "# Display only the 'Name' and 'Percentage' columns using the .loc method.\n",
    "result = df.loc[:,[\"Name\",\"Percentage\"]]\n",
    "print(result)"
   ]
  },
  {
   "cell_type": "code",
   "execution_count": 18,
   "id": "0bf70c04-820c-413c-859c-10e60d9f16de",
   "metadata": {},
   "outputs": [
    {
     "name": "stdout",
     "output_type": "stream",
     "text": [
      "      Name  Percentage\n",
      "0     Ajay          88\n",
      "1     Amit          92\n",
      "2  Keerthi          95\n"
     ]
    }
   ],
   "source": [
    "# Display only the 'Name' and 'Percentage' columns for rows where the 'Percentage' is greater than 80 using the .loc method.\n",
    "result = df.loc[df[\"Percentage\"]>80,[\"Name\",\"Percentage\"]]\n",
    "print(result)"
   ]
  },
  {
   "cell_type": "code",
   "execution_count": 24,
   "id": "5cde6978-f0a4-4c40-bd30-caae78260e0c",
   "metadata": {
    "scrolled": true
   },
   "outputs": [
    {
     "name": "stdout",
     "output_type": "stream",
     "text": [
      "      Name    Stream  Percentage\n",
      "0     Ajay      Math          90\n",
      "1     Amit  Commerce          92\n",
      "2  Keerthi   Science          95\n",
      "3     Prem      Math          70\n",
      "4    Priya      Math          65\n",
      "5   Pragna   Science          78\n"
     ]
    }
   ],
   "source": [
    " # 5. Update the 'Percentage' value to 90 for the row where the 'Name' is 'Ajay'. \n",
    "df.loc[df[\"Name\"]==\"Ajay\",[\"Percentage\"]] = 90\n",
    "print(df)"
   ]
  },
  {
   "cell_type": "code",
   "execution_count": 30,
   "id": "adfa534e-04e6-42eb-bdc8-78dad2364028",
   "metadata": {},
   "outputs": [
    {
     "name": "stdout",
     "output_type": "stream",
     "text": [
      "      Name   Stream  Percentage\n",
      "2  Keerthi  Science          95\n"
     ]
    }
   ],
   "source": [
    "# Select all the rows where the 'Percentage' is greater than 90 and the 'Stream' is 'Science'\n",
    "result = df.loc[(df[\"Percentage\"]>90) & (df[\"Stream\"]==\"Science\")]\n",
    "print(result)"
   ]
  },
  {
   "cell_type": "code",
   "execution_count": 33,
   "id": "fd421400-0bad-4af5-90b1-9da4b60c385b",
   "metadata": {},
   "outputs": [
    {
     "name": "stdout",
     "output_type": "stream",
     "text": [
      "      Name    Stream  Percentage\n",
      "1     Amit  Commerce          92\n",
      "2  Keerthi   Science          95\n",
      "5   Pragna   Science          78\n"
     ]
    }
   ],
   "source": [
    " # Display all the rows where the 'Stream' is not 'Math'. \n",
    "result = df[df[\"Stream\"]!=\"Math\"]\n",
    "print(result)"
   ]
  },
  {
   "cell_type": "code",
   "execution_count": 35,
   "id": "02ef90a2-2222-43fc-a7cf-bcbd6b98d6a3",
   "metadata": {},
   "outputs": [
    {
     "name": "stdout",
     "output_type": "stream",
     "text": [
      "   Name    Stream\n",
      "0  Ajay      Math\n",
      "1  Amit  Commerce\n"
     ]
    }
   ],
   "source": [
    "# . Display the first two rows and the first two columns of the DataFrame. \n",
    "result = df.iloc[:2,:2]\n",
    "print(result)"
   ]
  },
  {
   "cell_type": "code",
   "execution_count": 38,
   "id": "c8839a66-2bd2-4bc8-b84d-317eccc86bc8",
   "metadata": {},
   "outputs": [
    {
     "name": "stdout",
     "output_type": "stream",
     "text": [
      "      Name    Stream  Percentage\n",
      "1     Amit  Commerce          92\n",
      "0     Ajay      Math          90\n",
      "3     Prem      Math          70\n",
      "4    Priya      Math          65\n",
      "2  Keerthi   Science          95\n",
      "5   Pragna   Science          78\n"
     ]
    }
   ],
   "source": [
    " # Sort the rows of the DataFrame in ascending order based on the values in the 'Stream' column. \n",
    "result = df.sort_values(by=\"Stream\")\n",
    "print(result)"
   ]
  },
  {
   "cell_type": "code",
   "execution_count": 39,
   "id": "f6d3950d-6be3-4415-9ef0-9f46d4e99817",
   "metadata": {},
   "outputs": [
    {
     "name": "stdout",
     "output_type": "stream",
     "text": [
      "      Name    Stream  Percentage\n",
      "1     Amit  Commerce          92\n",
      "2  Keerthi   Science          95\n",
      "5   Pragna   Science          78\n"
     ]
    }
   ],
   "source": [
    "# Drop the rows where the 'Stream' is 'Math' from the original dataset\n",
    "result = df[df[\"Stream\"]!=\"Math\"]\n",
    "print(result)"
   ]
  }
 ],
 "metadata": {
  "kernelspec": {
   "display_name": "Python 3 (ipykernel)",
   "language": "python",
   "name": "python3"
  },
  "language_info": {
   "codemirror_mode": {
    "name": "ipython",
    "version": 3
   },
   "file_extension": ".py",
   "mimetype": "text/x-python",
   "name": "python",
   "nbconvert_exporter": "python",
   "pygments_lexer": "ipython3",
   "version": "3.11.0"
  }
 },
 "nbformat": 4,
 "nbformat_minor": 5
}
