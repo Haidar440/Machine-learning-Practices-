{
 "cells": [
  {
   "cell_type": "code",
   "execution_count": 1,
   "id": "c9aa18a5-4ae4-42fb-af25-c2022c14a9d3",
   "metadata": {},
   "outputs": [
    {
     "name": "stdout",
     "output_type": "stream",
     "text": [
      "False\n",
      "False\n",
      "False\n",
      "False\n",
      "True\n",
      "True\n",
      "False\n",
      "True\n"
     ]
    }
   ],
   "source": [
    "import math\n",
    "print(math.isnan(56))\n",
    "print(math.isnan(-45.34))\n",
    "print(math.isnan(45.34))\n",
    "print(math.isnan(math.inf))\n",
    "print(math.isnan(float(\"nan\")))\n",
    "print(math.isnan(float(\"nan\")))\n",
    "print(math.isnan(float(\"-inf\")))\n",
    "print(math.isnan(math.nan))"
   ]
  },
  {
   "cell_type": "code",
   "execution_count": 2,
   "id": "137bc803-96b4-4ff4-97a5-8394775c9689",
   "metadata": {},
   "outputs": [],
   "source": [
    "import numpy as np"
   ]
  },
  {
   "cell_type": "code",
   "execution_count": 3,
   "id": "487b4aff-63f6-4c7e-8996-0bbbf21c48d7",
   "metadata": {},
   "outputs": [
    {
     "name": "stdout",
     "output_type": "stream",
     "text": [
      "2\n",
      "(3, 3)\n",
      "9\n"
     ]
    }
   ],
   "source": [
    "x = np.array([[1,2,3],[4,5,6],[7,8,9]])\n",
    "print(x.ndim)\n",
    "print(x.shape)\n",
    "print(x.size)"
   ]
  },
  {
   "cell_type": "code",
   "execution_count": 6,
   "id": "e414e114-7200-495c-80dc-e68f24f2c2c6",
   "metadata": {},
   "outputs": [
    {
     "name": "stdout",
     "output_type": "stream",
     "text": [
      "[0 1 2 3 4]\n"
     ]
    },
    {
     "data": {
      "text/plain": [
       "array([20, 29, 38, 47, 56])"
      ]
     },
     "execution_count": 6,
     "metadata": {},
     "output_type": "execute_result"
    }
   ],
   "source": [
    "a = np.array([20,30,40,50,60])\n",
    "b = np.arange(5)\n",
    "c = a-b\n",
    "c"
   ]
  },
  {
   "cell_type": "code",
   "execution_count": 7,
   "id": "e5a50a6a-e4f4-467e-85e8-a05b085f3d45",
   "metadata": {},
   "outputs": [
    {
     "name": "stdout",
     "output_type": "stream",
     "text": [
      "3\n",
      "(1, 4, 2)\n",
      "8\n"
     ]
    }
   ],
   "source": [
    "arr1 = np.array([[[1,2],[3,4],[5,6],[7,8]]])\n",
    "print(arr1.ndim)\n",
    "print(arr1.shape)\n",
    "print(arr1.size)"
   ]
  }
 ],
 "metadata": {
  "kernelspec": {
   "display_name": "Python 3 (ipykernel)",
   "language": "python",
   "name": "python3"
  },
  "language_info": {
   "codemirror_mode": {
    "name": "ipython",
    "version": 3
   },
   "file_extension": ".py",
   "mimetype": "text/x-python",
   "name": "python",
   "nbconvert_exporter": "python",
   "pygments_lexer": "ipython3",
   "version": "3.11.0"
  }
 },
 "nbformat": 4,
 "nbformat_minor": 5
}
